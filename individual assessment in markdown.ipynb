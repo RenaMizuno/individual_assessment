{
 "cells": [
  {
   "cell_type": "markdown",
   "id": "0f17da5c",
   "metadata": {},
   "source": [
    "import pandas as pd\n",
    "import numpy as np\n",
    "import seaborn as sns\n",
    "import matplotlib.pyplot as plt\n",
    "from scipy.stats import pearsonr\n",
    "from scipy.stats import skew"
   ]
  },
  {
   "cell_type": "markdown",
   "id": "b4438ec1",
   "metadata": {},
   "source": [
    "#-Import the data directly from google drive instead of saving it locally.\n",
    "\n",
    "excel_file= pd.ExcelFile(\"https://docs.google.com/spreadsheets/d/1ecopK6oyyb4d_7-QLrCr8YlgFrCetHU7-VQfnYej7JY/export/format=csv\")"
   ]
  },
  {
   "cell_type": "markdown",
   "id": "321eea98",
   "metadata": {},
   "source": [
    "print(excel_file.sheet_names)"
   ]
  },
  {
   "cell_type": "markdown",
   "id": "22d2ee6c",
   "metadata": {},
   "source": [
    "city_data = ['amsterdam_weekdays', 'amsterdam_weekends', 'athens_weekdays', 'athens_weekends', \n",
    "             'berlin_weekends', 'berlin_weekdays', 'barcelona_weekdays', 'barcelona_weekends', \n",
    "             'budapest_weekdays', 'budapest_weekends', 'lisbon_weekdays', 'lisbon_weekends', \n",
    "             'london_weekdays', 'london_weekends', 'paris_weekdays', 'paris_weekends', \n",
    "             'rome_weekdays', 'rome_weekends', 'vienna_weekdays', 'vienna_weekends']\n"
   ]
  },
  {
   "cell_type": "markdown",
   "id": "f0fa5e05",
   "metadata": {},
   "source": [
    "for c in city_data[:]:  \n",
    "    print(f\"{c} = excel_file.parse('{c}')\")"
   ]
  },
  {
   "cell_type": "markdown",
   "id": "34650036",
   "metadata": {},
   "source": [
    "amsterdam_weekdays = excel_file.parse('amsterdam_weekdays')\n",
    "amsterdam_weekends = excel_file.parse('amsterdam_weekends')\n",
    "athens_weekdays = excel_file.parse('athens_weekdays')\n",
    "athens_weekends = excel_file.parse('athens_weekends')\n",
    "berlin_weekends = excel_file.parse('berlin_weekends')\n",
    "berlin_weekdays = excel_file.parse('berlin_weekdays')\n",
    "barcelona_weekdays = excel_file.parse('barcelona_weekdays')\n",
    "barcelona_weekends = excel_file.parse('barcelona_weekends')\n",
    "budapest_weekdays = excel_file.parse('budapest_weekdays')\n",
    "budapest_weekends = excel_file.parse('budapest_weekends')\n",
    "lisbon_weekdays = excel_file.parse('lisbon_weekdays')\n",
    "lisbon_weekends = excel_file.parse('lisbon_weekends')\n",
    "london_weekdays = excel_file.parse('london_weekdays')\n",
    "london_weekends = excel_file.parse('london_weekends')\n",
    "paris_weekdays = excel_file.parse('paris_weekdays')\n",
    "paris_weekends = excel_file.parse('paris_weekends')\n",
    "rome_weekdays = excel_file.parse('rome_weekdays')\n",
    "rome_weekends = excel_file.parse('rome_weekends')\n",
    "vienna_weekdays = excel_file.parse('vienna_weekdays')\n",
    "vienna_weekends = excel_file.parse('vienna_weekends')"
   ]
  },
  {
   "cell_type": "markdown",
   "id": "29fa79d9",
   "metadata": {},
   "source": [
    "#-Merge all the tables into a single dataframe\n",
    "dfs = {}\n",
    "\n",
    "for c in city_data:\n",
    "    dfs[c] = excel_file.parse(c)\n",
    "\n",
    "alldf = pd.concat(dfs.values(), ignore_index=False)"
   ]
  },
  {
   "cell_type": "markdown",
   "id": "8dec5669",
   "metadata": {},
   "source": [
    "alldf"
   ]
  },
  {
   "cell_type": "markdown",
   "id": "7ab24999",
   "metadata": {},
   "source": [
    "alldf = pd.DataFrame(alldf)"
   ]
  },
  {
   "cell_type": "markdown",
   "id": "b99bcfea",
   "metadata": {},
   "source": [
    "#-Create a column for city, country, and weekday/weekend \n",
    "cities = ['Amsterdam'] * 1103 + ['Amsterdam'] * 977 + ['Athens'] * 2653 + ['Athens'] * 2627 +['Berlin'] * 1200 +['Berlin'] * 1294 +['Barcelona'] * 1555 +['Barcelona'] * 1278 +['Budapest'] * 2074 +['Budapest'] * 1948 +['Lisbon'] * 2857 +['Lisbon'] * 2906 +['London'] * 4614+['London'] * 5379+['Paris'] * 3130+['Paris'] * 3558 +['Rome'] * 4992+['Rome'] * 4535+['Vienna'] * 1738+['Vienna']*1799\n",
    "alldf['City'] = cities[:len(alldf)]\n",
    "\n",
    "\n",
    "countries = ['Netherland']* 2080 +['Greece'] *5280 +['Germany']*2494 + ['Spain']*2833 +['Hungary']* 4022 +['Portogual'] *5763 +['England'] *9993 +['France']* 6688+ ['Italy'] *9527+ ['Austlia'] * 3027\n",
    "alldf['Country'] = countries[:len(alldf)]\n",
    "\n",
    "weekday_weekend = ['weekday'] * 1103 + ['weekend'] * 977 + ['weekday'] * 2653 + ['weekend'] * 2627 +['weekday'] * 1200 +['weekend'] * 1294 +['weekday'] * 1555 +['weekend'] * 1278 +['weekday'] * 2074 +['weekend'] * 1948 +['weekday'] * 2857 +['weekend'] * 2906 +['weekday'] * 4614+['weekend'] * 5379+['weekday'] * 3130+['weekend'] * 3558 +['weekday'] * 4992+['weekend'] * 4535+['weekday'] * 1738+['weekend']*1799\n",
    "alldf['Weekday_Weekend'] = weekday_weekend[:len(alldf)]\n",
    "\n"
   ]
  },
  {
   "cell_type": "markdown",
   "id": "fefcf31d",
   "metadata": {},
   "source": [
    "#length of column in each cties\n",
    "len(alldf[alldf['City']== 'Vienna'])"
   ]
  },
  {
   "cell_type": "markdown",
   "id": "751b4dfd",
   "metadata": {},
   "source": [
    "#-Change the name of realSum to Price\n",
    "alldf.rename(columns={'realSum': 'Price'}, inplace=True)"
   ]
  },
  {
   "cell_type": "markdown",
   "id": "8dec8500",
   "metadata": {},
   "source": [
    "#-Remove first column\n",
    "new_alldf = alldf.iloc[:, 1:]\n",
    "new_alldf"
   ]
  },
  {
   "cell_type": "code",
   "execution_count": 14,
   "id": "dd23e07b",
   "metadata": {},
   "outputs": [
    {
     "data": {
      "text/plain": [
       "Price                         51707\n",
       "room_type                     51707\n",
       "room_shared                   51707\n",
       "room_private                  51707\n",
       "person_capacity               51707\n",
       "host_is_superhost             51707\n",
       "multi                         51707\n",
       "biz                           51707\n",
       "cleanliness_rating            51707\n",
       "guest_satisfaction_overall    51707\n",
       "bedrooms                      51707\n",
       "dist                          51707\n",
       "metro_dist                    51707\n",
       "attr_index                    51707\n",
       "attr_index_norm               51707\n",
       "rest_index                    51707\n",
       "rest_index_norm               51707\n",
       "lng                           51707\n",
       "lat                           51707\n",
       "City                          51707\n",
       "Country                       51707\n",
       "Weekday_Weekend               51707\n",
       "dtype: int64"
      ]
     },
     "execution_count": 14,
     "metadata": {},
     "output_type": "execute_result"
    }
   ],
   "source": [
    "new_alldf.count(0)"
   ]
  },
  {
   "cell_type": "markdown",
   "id": "9e0b570c",
   "metadata": {},
   "source": [
    "'''\n",
    "1. How many listings are in each city in total and also per type of day?\n",
    "2. Which city has the biggest proportion of superhosts?\n",
    "3. Which cities have listings with more than four rooms?\n",
    "4. Which city has the most entire home/apt type listings?\n",
    "5. Are ratings typically high across listings, or is there a wide variation?\n",
    "6. How does person_capacity vary across listings? What is the most common capacity of listings?\n",
    "7. Plot the distribution of realSum for both weekday and weekend offers. Is it normally distributed, skewed, or multimodal? If skewed, consider using transformations (e.g., log transformation) to normalize it.\n",
    "8. Plot the distribution of guest_satisfaction_overall ratings. \n",
    "9. Examine the distribution of cleanliness_rating.\n",
    "'''"
   ]
  },
  {
   "cell_type": "markdown",
   "id": "7e71a85f",
   "metadata": {
    "scrolled": true
   },
   "source": [
    "new_alldf"
   ]
  },
  {
   "cell_type": "markdown",
   "id": "414267d8",
   "metadata": {},
   "source": [
    "list(new_alldf)"
   ]
  },
  {
   "cell_type": "markdown",
   "id": "c79c87e2",
   "metadata": {},
   "source": [
    "num_list = (1103,977,2653,2627,1200,1284,1555,1278,2074,1948,2857,2906,4614,5379,3130,3558,4492,4535,1738,1799)\n",
    "\n",
    "df = pd.DataFrame({'Number of listing': num_list, 'Cities': city_data})\n",
    "print(df)\n"
   ]
  },
  {
   "cell_type": "markdown",
   "id": "114014a4",
   "metadata": {},
   "source": [
    "#1. How many listings are in each city in total and also per type of day?\n",
    "city_listing = new_alldf['City'].value_counts().reset_index(name='Number of Listings')\n",
    "city_listing.columns = ['City', 'Number of Listings']\n",
    "city_listing"
   ]
  },
  {
   "cell_type": "markdown",
   "id": "904d4963",
   "metadata": {},
   "source": [
    "type_count =new_alldf['room_type'].value_counts()\n",
    "print(type_count)"
   ]
  },
  {
   "cell_type": "markdown",
   "id": "5237b589",
   "metadata": {},
   "source": [
    "room_counts = new_alldf.groupby(['City', 'room_type']).size().reset_index(name='Count')\n",
    "room_counts"
   ]
  },
  {
   "cell_type": "markdown",
   "id": "cbed2277",
   "metadata": {},
   "source": [
    "plt.figure(figsize=(12, 6))\n",
    "sns.histplot(data=new_alldf, x='City', hue='room_type', multiple='stack', palette='Set2')\n",
    "plt.xticks(rotation=45)\n",
    "plt.title('Roomtypes of the day ')\n",
    "plt.xlabel('City')\n",
    "plt.ylabel('Rooms')\n",
    "'''\n",
    "Most of the cities have a great number of either private room or entire/home apartment :\n",
    "Cities that have more numbers of Entire/home aprtment: Amsterdam, Athens,Budapest, Lisbon, Paris, Rome Vienna\n",
    "Cities that have more numbers of　Pricate room : Barcerona, London\n",
    "#-> There are no patterns can be seen(e.g. such as the correlations between the specific room type and geographical location)\n",
    "'''"
   ]
  },
  {
   "cell_type": "markdown",
   "id": "e249de3a",
   "metadata": {},
   "source": [
    "#2. Which city has the biggest proportion of superhosts?\n",
    "#-> the answer is Rome: 3136\n",
    "superhost_count_by_city = new_alldf.groupby('City')['host_is_superhost'].sum().reset_index(name='Superhost Count')\n",
    "superhost_count_by_city"
   ]
  },
  {
   "cell_type": "markdown",
   "id": "5cc03321",
   "metadata": {},
   "source": [
    "plt.figure(figsize=(12, 6))\n",
    "sns.histplot(data=new_alldf, x='City', hue='host_is_superhost',multiple='stack',palette='Set2')\n",
    "plt.xticks(rotation=45)\n",
    "plt.title('Superhost True or False')\n",
    "plt.xlabel('City')\n",
    "plt.ylabel('Frequency')\n",
    "'''\n",
    "#Most of the cities have more accomodations that are not aproved as \"host is superhost\" \n",
    "#The numbers of true in Athens and Budapest outnumber the ones of false\n",
    "'''"
   ]
  },
  {
   "cell_type": "markdown",
   "id": "d0456636",
   "metadata": {},
   "source": [
    "#3. Which cities have listings with more than four rooms?-> The capacity of the room is more than 4 persons?\n",
    "#-> the answer is London: 36\n",
    "\n",
    "\n",
    "filtered_df = new_alldf[new_alldf['bedrooms'] >= 4]\n",
    "capacity_count = filtered_df.groupby('City').size().reset_index(name='bedroom ≥ 4')\n",
    "capacity_count\n",
    "\n",
    "#The availability of bedrooms for more than 4 people are limited: over 15= Amsterdam, Lisbon,London, Rome\n"
   ]
  },
  {
   "cell_type": "markdown",
   "id": "f69a3498",
   "metadata": {},
   "source": [
    "#4. Which city has the most entire home/apt type listings?\n",
    "#-> Rome 5963\n",
    "\n",
    "entire_home_apt_df = new_alldf[new_alldf['room_type'] == 'Entire home/apt']\n",
    "entire_home_apt_count_by_city = entire_home_apt_df.groupby('City').size().reset_index(name='Entire Home/Apt Count')\n",
    "entire_home_apt_count_by_city\n",
    "#- The accomodations in Athens,Budapest, Lisbon, Paris, Rome, Londodn have greater absolute number in this category. "
   ]
  },
  {
   "cell_type": "markdown",
   "id": "31781482",
   "metadata": {},
   "source": [
    "#5. Are ratings typically high across listings, or is there a wide variation?\n",
    "#-> Unclear"
   ]
  },
  {
   "cell_type": "markdown",
   "id": "faa1a304",
   "metadata": {},
   "source": [
    "#6. How does person_capacity vary across listings? What is the most common capacity of listings?\n",
    "#-> person capacities varies between 1 and 4.The commoncapacity is 2 people.\n",
    "plt.figure(figsize=(12, 6))\n",
    "sns.histplot(data=new_alldf, x='City', hue='person_capacity', multiple='stack', palette='Set2')\n",
    "plt.xticks(rotation=45)\n",
    "plt.title('Person Capacity Across Cities')\n",
    "plt.xlabel('Person Capacity')\n",
    "plt.ylabel('Rooms')\n"
   ]
  },
  {
   "cell_type": "markdown",
   "id": "22b7754f",
   "metadata": {},
   "source": [
    "\n",
    "plt.figure(figsize=(12, 6))\n",
    "sns.boxplot(x='City', y='person_capacity', data=new_alldf, palette='Set2')\n",
    "plt.xticks(rotation=45)\n",
    "plt.title('Person Capacity Across Cities')\n",
    "plt.xlabel('City')\n",
    "plt.ylabel('Person Capacity')"
   ]
  },
  {
   "cell_type": "markdown",
   "id": "15fc8f45",
   "metadata": {},
   "source": [
    "#7. Plot the distribution of realSum for both weekday and weekend offers.\n",
    "#Is it normally distributed, skewed, or multimodal? \n",
    "#If skewed, consider using transformations (e.g., log transformation) to normalize it.\n",
    "\n",
    "#-> skewed(Positive)\n"
   ]
  },
  {
   "cell_type": "markdown",
   "id": "bcaf7ddd",
   "metadata": {},
   "source": [
    "sns.stripplot(x='Weekday_Weekend', y='Price', data=new_alldf, color='black', jitter=True, alpha=0.5)\n",
    "plt.title('Price Distribution by Weekday vs Weekend (with Dots for Distribution)')\n",
    "plt.xlabel('Weekday/Weekend')\n",
    "plt.ylabel('Price')"
   ]
  },
  {
   "cell_type": "markdown",
   "id": "b740eb37",
   "metadata": {},
   "source": [
    "price_skewness = skew(new_alldf['Price'])\n",
    "print(f\"Skewness of 'Price': {price_skewness:.4f}\")\n",
    "\n",
    "\n",
    "plt.figure(figsize=(12, 6))\n",
    "sns.boxplot(x='Weekday_Weekend', y='Price', data=new_alldf, palette='Set2')\n",
    "\n",
    "plt.title('Price Distribution by Weekday vs Weekend')\n",
    "plt.xlabel('Weekday/Weekend')\n",
    "plt.ylabel('Price')\n"
   ]
  },
  {
   "cell_type": "markdown",
   "id": "9efc0606",
   "metadata": {},
   "source": [
    "new_alldf.columns = new_alldf.columns.str.strip()\n",
    "count_1_100 = ((new_alldf['Price'] > 1) & (new_alldf['Price'] < 100)).sum()\n",
    "print(f\"Number of listings with price in the range 1-100: {count_1_100}\")\n",
    "\n",
    "count_101_500 = ((new_alldf['Price'] > 100) & (new_alldf['Price'] < 500)).sum()\n",
    "print(f\"Number of listings with price in the range 101-500: {count_101_500}\")\n",
    "    \n",
    "count_501_1000 = ((new_alldf['Price'] > 500) & (new_alldf['Price'] < 1000)).sum()\n",
    "print(f\"Number of listings with price in the range 501-1000: {count_501_1000}\")\n",
    "\n",
    "#- the the price range is between 1 and 1000"
   ]
  },
  {
   "cell_type": "markdown",
   "id": "0b7f485d",
   "metadata": {},
   "source": [
    "plt.figure(figsize=(12, 6))\n",
    "sns.histplot(new_alldf['Price'], kde=True, color='blue', label='Original Price')\n",
    "plt.title('Distribution of Original Price')\n",
    "plt.xlabel('Price')\n",
    "plt.ylabel('Frequency')\n",
    "\n",
    "new_alldf['log_Price'] = np.log(new_alldf['Price'])\n",
    "log_price_skewness = skew(new_alldf['log_Price'])\n",
    "print(f\"Skewness of transformed 'Price' (log): {log_price_skewness:.4f}\")\n",
    "\n",
    "plt.figure(figsize=(12, 6))\n",
    "sns.histplot(new_alldf['log_Price'], kde=True, color='red', label='Log Transformed Price')\n",
    "plt.title('Distribution of Log Transformed Price')\n",
    "plt.xlabel('Log(Price)')\n",
    "plt.ylabel('Frequency')\n",
    "\n",
    "new_alldf['sqrt_Price'] = np.sqrt(new_alldf['Price'])\n",
    "sqrt_price_skewness = skew(new_alldf['sqrt_Price'])\n",
    "print(f\"Skewness of transformed 'Price' (sqrt): {sqrt_price_skewness:.4f}\")\n",
    "\n",
    "\n",
    "plt.figure(figsize=(12, 6))\n",
    "sns.histplot(new_alldf['sqrt_Price'], kde=True, color='green', label='Square Root Transformed Price')\n",
    "plt.title('Distribution of Square Root Transformed Price')\n",
    "plt.xlabel('Sqrt(Price)')\n",
    "plt.ylabel('Frequency')\n"
   ]
  },
  {
   "cell_type": "markdown",
   "id": "c6e0ae73",
   "metadata": {},
   "source": [
    "#8. Plot the distribution of guest_satisfaction_overall ratings.\n",
    "#-> \n",
    "plt.figure(figsize=(12, 6))\n",
    "sns.boxplot(x='City', y='guest_satisfaction_overall', data=new_alldf, palette='Set2')\n",
    "plt.xticks(rotation=45)\n",
    "plt.title('Guest Satisfaction Distribution Across Cities')\n",
    "plt.xlabel('City')\n",
    "plt.ylabel('Guest Satisfaction')"
   ]
  },
  {
   "cell_type": "markdown",
   "id": "96b9fa64",
   "metadata": {},
   "source": [
    " \n",
    "plt.figure(figsize=(12, 6))\n",
    "sns.histplot(data=new_alldf, x='City', hue='guest_satisfaction_overall', multiple='stack', palette='Set3')\n",
    "plt.xticks(rotation=45)\n",
    "plt.title('Guest satisfaction')\n",
    "plt.xlabel('City')\n",
    "\n",
    "plt.ylabel('Guest satisfaction Rate')\n",
    "\n"
   ]
  },
  {
   "cell_type": "markdown",
   "id": "8c259798",
   "metadata": {},
   "source": [
    "#9. Examine the distribution of cleanliness_rating.\n",
    " \n",
    "plt.figure(figsize=(12, 6))\n",
    "sns.histplot(data=new_alldf, x='City', hue='cleanliness_rating', multiple='stack', palette='Set2')\n",
    "plt.xticks(rotation=45)\n",
    "plt.title('Cleanliness Rating Across Cities')\n",
    "plt.xlabel('City')\n",
    "plt.ylabel('Cleaning Rate')\n",
    "\n",
    "\n",
    "plt.figure(figsize=(12, 6))\n",
    "sns.boxplot(x='City', y='cleanliness_rating', data=new_alldf, palette='Set2')\n",
    "plt.xticks(rotation=45)\n",
    "plt.title('Cleanliness Rating Across Cities')\n",
    "plt.xlabel('City')\n",
    "plt.ylabel('Cleaning Rate')\n",
    "\n",
    "#-> most of the cities aquired 10, follwing that rating 9 and 8. \n",
    "#The case rated lower than 7 are less than 7 in each cities. \n"
   ]
  },
  {
   "cell_type": "markdown",
   "id": "37bf8a64",
   "metadata": {},
   "source": [
    "'''\n",
    "[Analysis Summary]\n",
    "- The significant differences of the number of listing can barely seen between weekend and weekdays except London.\n",
    "- There are no patterns can be seen(e.g. such as the correlations between the specific room type and geographical location)\n",
    "- Person capacities varies between 1 and 4.The commoncapacity is 2 people.\n",
    "- The price distribution is positively skewed, the price range is between 1 and 1000.\n",
    "- The ratio of the super host does not correrate with the satisfaction.\n",
    "- As majority of accomodations in all cities have great rate in cleanliness(more than 8), the cleanliness rate and guest satisfaction may correlate.  \n",
    "'''"
   ]
  }
 ],
 "metadata": {
  "kernelspec": {
   "display_name": "Python 3 (ipykernel)",
   "language": "python",
   "name": "python3"
  },
  "language_info": {
   "codemirror_mode": {
    "name": "ipython",
    "version": 3
   },
   "file_extension": ".py",
   "mimetype": "text/x-python",
   "name": "python",
   "nbconvert_exporter": "python",
   "pygments_lexer": "ipython3",
   "version": "3.10.6"
  }
 },
 "nbformat": 4,
 "nbformat_minor": 5
}
